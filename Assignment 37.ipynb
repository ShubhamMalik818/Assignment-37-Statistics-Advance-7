{
 "cells": [
  {
   "cell_type": "code",
   "execution_count": null,
   "id": "f3986467-a6b7-480f-a712-b68d85699e58",
   "metadata": {},
   "outputs": [],
   "source": [
    "1. Write a Python function that takes in two arrays of data and calculates the F-value for a variance ratio test. The function should return \n",
    "   the F-value and the corresponding p-value for the test."
   ]
  },
  {
   "cell_type": "code",
   "execution_count": 1,
   "id": "a3123127-6341-4602-bdeb-30c6763db711",
   "metadata": {},
   "outputs": [],
   "source": [
    "import scipy.stats as stats\n",
    "\n",
    "def variance_ratio_test(data1, data2):\n",
    "\n",
    "    # Calculate the variances of the two data sets\n",
    "    var1 = data1.var()\n",
    "    var2 = data2.var()\n",
    "\n",
    "    # Calculate the F-value for the variance ratio test\n",
    "    f_value = var1 / var2\n",
    "\n",
    "    # Calculate the degrees of freedom for the test\n",
    "    df1 = len(data1) - 1\n",
    "    df2 = len(data2) - 1\n",
    "\n",
    "    # Calculate the p-value for the test\n",
    "    p_value = stats.f.sf(f_value, df1, df2)\n",
    "\n",
    "    return f_value, p_value"
   ]
  },
  {
   "cell_type": "code",
   "execution_count": 2,
   "id": "b6c5bfbb-3063-47b8-99a9-94b39182ad2e",
   "metadata": {},
   "outputs": [
    {
     "name": "stdout",
     "output_type": "stream",
     "text": [
      "F-value: 0.310442650505055\n",
      "p-value: 0.9999999920400067\n"
     ]
    }
   ],
   "source": [
    "import numpy as np\n",
    "\n",
    "# Generate two sets of random data\n",
    "data1 = np.random.normal(loc=0, scale=1, size=100)\n",
    "data2 = np.random.normal(loc=0, scale=2, size=100)\n",
    "\n",
    "# Calculate the F-value and p-value for the variance ratio test\n",
    "f_value, p_value = variance_ratio_test(data1, data2)\n",
    "\n",
    "print(\"F-value:\", f_value)\n",
    "print(\"p-value:\", p_value)"
   ]
  },
  {
   "cell_type": "code",
   "execution_count": null,
   "id": "f6e6bf07-5a38-4189-8f41-85c64a43a410",
   "metadata": {},
   "outputs": [],
   "source": [
    "2. Given a significance level of 0.05 and the degrees of freedom for the numerator and denominator of an F-distribution, write a Python function \n",
    "   that returns the critical F-value for a two-tailed test."
   ]
  },
  {
   "cell_type": "code",
   "execution_count": 3,
   "id": "728d0722-f6bb-48a3-9918-82aaccf04b47",
   "metadata": {},
   "outputs": [],
   "source": [
    "import scipy.stats as stats\n",
    "\n",
    "def critical_f(alpha, dfn, dfd):\n",
    "  \n",
    "    # Calculate the F-value at the upper alpha/2 percentile\n",
    "    f_upper = stats.f.ppf(1 - alpha/2, dfn, dfd)\n",
    "\n",
    "    # Calculate the F-value at the lower alpha/2 percentile\n",
    "    f_lower = stats.f.ppf(alpha/2, dfn, dfd)\n",
    "\n",
    "    # Return the maximum of the two F-values\n",
    "    return max(f_upper, f_lower)"
   ]
  },
  {
   "cell_type": "code",
   "execution_count": 4,
   "id": "a76dac31-96ba-4a19-9a78-84ead744152b",
   "metadata": {},
   "outputs": [
    {
     "name": "stdout",
     "output_type": "stream",
     "text": [
      "Critical F-value: 3.9749308601386586\n"
     ]
    }
   ],
   "source": [
    "alpha = 0.05\n",
    "dfn = 2\n",
    "dfd = 50\n",
    "\n",
    "f_crit = critical_f(alpha, dfn, dfd)\n",
    "print(\"Critical F-value:\", f_crit)"
   ]
  },
  {
   "cell_type": "code",
   "execution_count": null,
   "id": "e8a302f7-b707-4ef1-8937-3610abba75d8",
   "metadata": {},
   "outputs": [],
   "source": [
    "This means that if the calculated F-value for a two-tailed test with 2 and 50 degrees of freedom is greater than 3.1606 or less than 0.3151, \n",
    "we would reject the null hypothesis at a significance level of 0.05."
   ]
  },
  {
   "cell_type": "code",
   "execution_count": null,
   "id": "f8dee32d-f977-46a5-8193-a1fa996b9546",
   "metadata": {},
   "outputs": [],
   "source": [
    "3. Write a Python program that generates random samples from two normal distributions with known variances and uses an F-test to determine \n",
    "   if the variances are equal. The program should output the F-value, degrees of freedom, and p-value for the test."
   ]
  },
  {
   "cell_type": "code",
   "execution_count": 5,
   "id": "0970ae8a-f456-4f06-88eb-47ec45ad5261",
   "metadata": {},
   "outputs": [
    {
     "name": "stdout",
     "output_type": "stream",
     "text": [
      "F-value: 0.28809429235211115\n",
      "Degrees of freedom (numerator, denominator): 49 , 59\n",
      "p-value: 0.9999919805785774\n"
     ]
    }
   ],
   "source": [
    "import numpy as np\n",
    "import scipy.stats as stats\n",
    "\n",
    "# Generate random samples from two normal distributions\n",
    "# with known variances\n",
    "n1 = 50\n",
    "n2 = 60\n",
    "var1 = 4\n",
    "var2 = 9\n",
    "mean1 = 0\n",
    "mean2 = 0\n",
    "\n",
    "data1 = np.random.normal(loc=mean1, scale=np.sqrt(var1), size=n1)\n",
    "data2 = np.random.normal(loc=mean2, scale=np.sqrt(var2), size=n2)\n",
    "\n",
    "# Calculate the F-value and p-value for the F-test\n",
    "f_value = np.var(data1, ddof=1) / np.var(data2, ddof=1)\n",
    "dfn = n1 - 1\n",
    "dfd = n2 - 1\n",
    "p_value = stats.f.sf(f_value, dfn, dfd)\n",
    "\n",
    "# Output the results\n",
    "print(\"F-value:\", f_value)\n",
    "print(\"Degrees of freedom (numerator, denominator):\", dfn, \",\", dfd)\n",
    "print(\"p-value:\", p_value)"
   ]
  },
  {
   "cell_type": "code",
   "execution_count": null,
   "id": "a1a289ee-5914-486c-b3a9-c077a8c9fc07",
   "metadata": {},
   "outputs": [],
   "source": [
    "In this example, we generate random samples from two normal distributions with known variances (4 and 9), means of 0, and sample sizes of 50 and 60. \n",
    "We then calculate the F-value for the F-test using the formula var1 / var2, where var1 and var2 are the known variances of the two distributions. \n",
    "We also calculate the degrees of freedom for the numerator and denominator of the F-distribution using the sample sizes (n1 and n2) minus 1. \n",
    "Finally, we calculate the p-value for the F-test using the stats.f.sf function.\n",
    "\n",
    "The program outputs the F-value, degrees of freedom for the numerator and denominator of the F-distribution, and the p-value for the F-test."
   ]
  },
  {
   "cell_type": "code",
   "execution_count": null,
   "id": "e0f72aac-da81-438d-928c-07c614b39b07",
   "metadata": {},
   "outputs": [],
   "source": [
    "4. The variances of two populations are known to be 10 and 15. A sample of 12 observations is taken from each population. Conduct an F-test at \n",
    "   the 5% significance level to determine if the variances are significantly different."
   ]
  },
  {
   "cell_type": "code",
   "execution_count": null,
   "id": "69c07a9e-fe77-4734-b5a0-2af66caf8eed",
   "metadata": {},
   "outputs": [],
   "source": [
    "ANS- To conduct an F-test to determine if the variances of two populations are significantly different, we need to calculate the F-statistic and \n",
    "     compare it to the critical F-value at the chosen level of significance. \n",
    "    \n",
    "The F-statistic is calculated as the ratio of the sample variances:\n",
    "\n",
    "F = s1^2 / s2^2\n",
    "\n",
    "where s1^2 and s2^2 are the sample variances of the two populations. \n",
    "Under the null hypothesis of equal variances, the F-statistic follows an F-distribution with (n1-1) and (n2-1) degrees of freedom.\n",
    "\n",
    "To conduct the F-test for this specific problem, we have:\n",
    "\n",
    "The variances of the two populations are known to be 10 and 15, so s1^2 = 10 and s2^2 = 15.\n",
    "A sample of 12 observations is taken from each population, so n1 = n2 = 12.\n",
    "The significance level is 5%, so alpha = 0.05.\n",
    "Now we can calculate the F-statistic:\n",
    "\n",
    "F = s1^2 / s2^2 = 10 / 15 = 0.67\n",
    "\n",
    "The degrees of freedom for the F-distribution are (n1-1) = 11 and (n2-1) = 11. Using a statistical software or a table of the F-distribution, \n",
    "we can find the critical F-value with a significance level of 0.05 and degrees of freedom of 11 and 11:\n",
    "\n",
    "F_crit = 2.44\n",
    "\n",
    "Since our calculated F-statistic (0.67) is less than the critical F-value (2.44), we fail to reject the null hypothesis of equal variances. \n",
    "Therefore, we can conclude that there is not enough evidence to suggest that the variances of the two populations are significantly different \n",
    "at the 5% level of significance."
   ]
  },
  {
   "cell_type": "code",
   "execution_count": null,
   "id": "0fe59ed0-38d9-45ab-b161-d23c29c784fa",
   "metadata": {},
   "outputs": [],
   "source": [
    "5. A manufacturer claims that the variance of the diameter of a certain product is 0.005. A sample of 25 products is taken, and the sample variance \n",
    "   is found to be 0.006. Conduct an F-test at the 1% significance level to determine if the claim is justified."
   ]
  },
  {
   "cell_type": "code",
   "execution_count": null,
   "id": "e371161a-d57f-4c66-85cd-3fc2f908efa5",
   "metadata": {},
   "outputs": [],
   "source": [
    "ANS- To conduct an F-test to determine if the claim of the manufacturer is justified, we need to calculate the F-statistic and compare it to \n",
    "     the critical F-value at the chosen level of significance. \n",
    "    \n",
    "The F-statistic is calculated as the ratio of the sample variances:\n",
    "\n",
    "F = s_sample^2 / s_claim^2\n",
    "\n",
    "where s_sample^2 is the sample variance and s_claim^2 is the claimed variance. \n",
    "Under the null hypothesis that the claimed variance is true, the F-statistic follows an F-distribution with (n-1) degrees of freedom, \n",
    "where n is the sample size.\n",
    "\n",
    "To conduct the F-test for this specific problem, we have:\n",
    "\n",
    "The claimed variance is 0.005, so s_claim^2 = 0.005.\n",
    "A sample of 25 products is taken, so n = 25.\n",
    "The sample variance is found to be 0.006, so s_sample^2 = 0.006.\n",
    "The significance level is 1%, so alpha = 0.01.\n",
    "Now we can calculate the F-statistic:\n",
    "\n",
    "F = s_sample^2 / s_claim^2 = 0.006 / 0.005 = 1.2\n",
    "\n",
    "The degrees of freedom for the F-distribution are (n-1) = 24. Using a statistical software or a table of the F-distribution, \n",
    "we can find the critical F-value with a significance level of 0.01 and degrees of freedom of 24:\n",
    "\n",
    "F_crit = 3.86\n",
    "\n",
    "Since our calculated F-statistic (1.2) is less than the critical F-value (3.86), \n",
    "we fail to reject the null hypothesis that the claimed variance is true. \n",
    "Therefore, we can conclude that there is not enough evidence to suggest that the claimed variance of 0.005 is incorrect at the 1% level of significance."
   ]
  },
  {
   "cell_type": "code",
   "execution_count": null,
   "id": "f9f54603-bd6c-495d-a29c-6212932b10ad",
   "metadata": {},
   "outputs": [],
   "source": [
    "6. Write a Python function that takes in the degrees of freedom for the numerator and denominator of an F-distribution and calculates the mean and \n",
    "   variance of the distribution. The function should return the mean and variance as a tuple."
   ]
  },
  {
   "cell_type": "code",
   "execution_count": 3,
   "id": "26d00a35-8e4e-4b36-8c29-c4283ba55aae",
   "metadata": {},
   "outputs": [],
   "source": [
    "import numpy as np\n",
    "from scipy.stats import f\n",
    "\n",
    "def f_distribution_mean_variance(df_numerator, df_denominator):\n",
    "    mean = df_denominator / (df_denominator - 2)\n",
    "    variance = (2 * (df_denominator ** 2) * (df_numerator + df_denominator - 2)) / (df_numerator * (df_denominator - 2) ** 2 * (df_denominator - 4))\n",
    "    return mean, variance"
   ]
  },
  {
   "cell_type": "code",
   "execution_count": 4,
   "id": "ce6f3bcb-0dae-46a6-8aba-77264dbb6f54",
   "metadata": {},
   "outputs": [
    {
     "name": "stdout",
     "output_type": "stream",
     "text": [
      "Mean: 1.25\n",
      "Variance: 1.3541666666666667\n"
     ]
    }
   ],
   "source": [
    "mean, variance = f_distribution_mean_variance(5, 10)\n",
    "print(\"Mean:\", mean)\n",
    "print(\"Variance:\", variance)"
   ]
  },
  {
   "cell_type": "code",
   "execution_count": null,
   "id": "65dcd86f-f499-48ad-9c5c-18a02dde9f08",
   "metadata": {},
   "outputs": [],
   "source": [
    "7. A random sample of 10 measurements is taken from a normal population with unknown variance. The sample variance is found to be 25. Another random \n",
    "   sample of 15 measurements is taken from another normal population with unknown variance, and the sample variance is found to be 20. Conduct an \n",
    "    F-test at the 10% significance level to determine if the variances are significantly different."
   ]
  },
  {
   "cell_type": "code",
   "execution_count": null,
   "id": "b14a797b-9a48-4e8d-9ad7-b1806f980187",
   "metadata": {},
   "outputs": [],
   "source": [
    "Using the information given in the problem, we can conduct the F-test as follows:\n",
    "\n",
    "The null hypothesis is that the variances of the two populations are equal, while the alternative hypothesis is that they are not equal. \n",
    "\n",
    "Thus, we have:\n",
    "    H0: sigma1^2 = sigma2^2\n",
    "    Ha: sigma1^2 != sigma2^2\n",
    "    \n",
    "    F = s1^2 / s2^2 = 25 / 20 = 1.25\n",
    "\n",
    "    df1 = n1 - 1 = 10 - 1 = 9\n",
    "    df2 = n2 - 1 = 15 - 1 = 14\n",
    "\n",
    "Determine the critical value F* from the F-distribution with df1=9 and df2=14 degrees of freedom at the 10% significance level. \n",
    "Using a statistical software or F-table, we can find that F* = 2.86.\n",
    "\n",
    "Compare the calculated test statistic F with the critical value F*. Since F = 1.25 < F* = 2.86, we fail to reject the null hypothesis.\n",
    "\n",
    "Therefore, we conclude that there is not enough evidence to suggest that the variances of the two populations are significantly different \n",
    "at the 10% significance level."
   ]
  },
  {
   "cell_type": "code",
   "execution_count": null,
   "id": "e08258a0-3d2b-4f97-ac46-9d645d7b6b60",
   "metadata": {},
   "outputs": [],
   "source": [
    "8. The following data represent the waiting times in minutes at two different restaurants on a Saturday night: Restaurant A: 24, 25, 28, 23, 22,20,27; \n",
    "   Restaurant B: 31, 33, 35, 30, 32, 36. Conduct an F-test at the 5% significance level to determine if the variances are significantly different."
   ]
  },
  {
   "cell_type": "code",
   "execution_count": null,
   "id": "a884b11c-c0bc-4c5a-8607-ff251dda2508",
   "metadata": {},
   "outputs": [],
   "source": [
    "To conduct an F-test at the 5% significance level to determine if the variances of two samples are significantly different, \n",
    "We follow these steps:\n",
    "\n",
    "1. State the null and alternative hypotheses. \n",
    "   The null hypothesis is that the variances of the two samples are equal, \n",
    "    while the alternative hypothesis is that they are not equal.\n",
    "\n",
    "2. Calculate the test statistic F using the formula:\n",
    "    \n",
    "    F = s1^2 / s2^2\n",
    "\n",
    "     where s1^2 and s2^2 are the sample variances of the first and second samples, respectively.\n",
    "\n",
    "3. Calculate the degrees of freedom for the numerator and denominator of the F-distribution using the formulas:\n",
    "    \n",
    "    df1 = n1 - 1\n",
    "    df2 = n2 - 1\n"
   ]
  },
  {
   "cell_type": "code",
   "execution_count": null,
   "id": "3bb97061-7216-4f8f-bef2-4669c15152fb",
   "metadata": {},
   "outputs": [],
   "source": [
    "Using the information given in the problem, we can conduct the F-test as follows:\n",
    "\n",
    "1. The null hypothesis is that the variances of the two samples are equal, while the alternative hypothesis is that they are not equal. \n",
    "Thus, we have:\n",
    "    \n",
    "    H0: sigma1^2 = sigma2^2\n",
    "    Ha: sigma1^2 != sigma2^2\n",
    "    \n",
    "2. Calculate the sample variances:  \n",
    "    \n",
    "    s1^2 = (24-25.7)^2 + (25-25.7)^2 + (28-25.7)^2 + (23-25.7)^2 + (22-25.7)^2 + (20-25.7)^2 + (27-25.7)^2 / (7-1) = 8.76\n",
    "    s2^2 = (31-32.8)^2 + (33-32.8)^2 + (35-32.8)^2 + (30-32.8)^2 + (32-32.8)^2 + (36-32.8)^2 / (6-1) = 6.8\n",
    "    \n",
    "3. Calculate the degrees of freedom:\n",
    "   \n",
    "    df1 = n1 - 1 = 7 - 1 = 6\n",
    "    df2 = n2 - 1 = 6 - 1 = 5\n",
    "    \n",
    "4. Determine the critical value F* from the F-distribution with df1=6 and df2=5 degrees of freedom at the 5% significance level. \n",
    "   Using a statistical software or F-table, we can find that F* = 5.05.\n",
    "\n",
    "5. Compare the calculated test statistic F with the critical value F*.\n",
    "\n",
    "   F = s1^2 / s2^2 = 8.76 / 6.8 = 1.29\n",
    "\n",
    "6. Since F = 1.29 < F* = 5.05, we fail to reject the null hypothesis.\n",
    "\n",
    "Therefore, we conclude that there is not enough evidence to suggest that the variances of the two samples are significantly different at \n",
    "the 5% significance level."
   ]
  },
  {
   "cell_type": "code",
   "execution_count": null,
   "id": "9830c05f-fa97-4ebd-bd3d-b31a97deb137",
   "metadata": {},
   "outputs": [],
   "source": [
    "9. The following data represent the test scores of two groups of students: Group A: 80, 85, 90, 92, 87, 83; Group B: 75, 78, 82, 79, 81, 84. \n",
    "   Conduct an F-test at the 1% significance level to determine if the variances are significantly different."
   ]
  },
  {
   "cell_type": "code",
   "execution_count": null,
   "id": "0b3d606f-acb5-46df-b192-662b820b70ae",
   "metadata": {},
   "outputs": [],
   "source": [
    "Using the information given in the problem, we can conduct the F-test as follows:\n",
    "\n",
    "1. The null hypothesis is that the variances of the two samples are equal, while the alternative hypothesis is that they are not equal. \n",
    "Thus, we have:\n",
    "    \n",
    "    H0: sigma1^2 = sigma2^2\n",
    "    H1: sigma1^2 != sigma2^2\n",
    "    \n",
    "2. Calculate the sample variances:\n",
    "    \n",
    "    s1^2 = (80-87.83)^2 + (85-87.83)^2 + (90-87.83)^2 + (92-87.83)^2 + (87-87.83)^2 + (83-87.83)^2 / (6-1) = 22.62\n",
    "    s2^2 = (75-80.83)^2 + (78-80.83)^2 + (82-80.83)^2 + (79-80.83)^2 + (81-80.83)^2 + (84-80.83)^2 / (6-1) = 6.31\n",
    "    \n",
    "3. Calculate the degrees of freedom:\n",
    "    \n",
    "    df1 = n1 - 1 = 6 - 1 = 5\n",
    "    df2 = n2 - 1 = 6 - 1 = 5\n",
    "    \n",
    "4. Determine the critical value F* from the F-distribution with df1=5 and df2=5 degrees of freedom at the 1% significance level. \n",
    "   Using a statistical software or F-table, we can find that F* = 9.93.\n",
    "\n",
    "5. Compare the calculated test statistic F with the critical value F*.\n",
    "\n",
    "    F = s1^2 / s2^2 = 22.62 / 6.31 = 3.58\n",
    "\n",
    "6. Since F = 3.58 > F* = 9.93, we fail to reject the null hypothesis.\n",
    "\n",
    "Therefore, we conclude that there is not enough evidence to suggest that the variances of the two samples are significantly different \n",
    "at the 1% significance level.\n",
    "\n",
    "\n"
   ]
  }
 ],
 "metadata": {
  "kernelspec": {
   "display_name": "Python 3 (ipykernel)",
   "language": "python",
   "name": "python3"
  },
  "language_info": {
   "codemirror_mode": {
    "name": "ipython",
    "version": 3
   },
   "file_extension": ".py",
   "mimetype": "text/x-python",
   "name": "python",
   "nbconvert_exporter": "python",
   "pygments_lexer": "ipython3",
   "version": "3.10.8"
  }
 },
 "nbformat": 4,
 "nbformat_minor": 5
}
